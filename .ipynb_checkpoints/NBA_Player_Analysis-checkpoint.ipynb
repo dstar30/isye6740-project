{
 "cells": [
  {
   "cell_type": "markdown",
   "metadata": {},
   "source": [
    "# ISYE 6740 Project - NBA Players Career Trajectory Prediction\n",
    "### Author: Daniel Jiang, Nafiz Haider\n",
    "\n",
    "The National Basketball Association (NBA) is the premier professional basketball association in the world. This sport has produced numerous stars and all time greats. There have been even more players that have excelled in their first, or rookie, NBA seasons. However, we have seen that a more accurate prediction of a player’s trajectory is from their second season."
   ]
  },
  {
   "cell_type": "code",
   "execution_count": 19,
   "metadata": {},
   "outputs": [],
   "source": [
    "# load libraries\n",
    "import pandas as pd\n",
    "import numpy as np\n",
    "from sklearn.decomposition import PCA\n",
    "import nba_scrapper"
   ]
  },
  {
   "cell_type": "code",
   "execution_count": 9,
   "metadata": {},
   "outputs": [],
   "source": [
    "def read_data(year):\n",
    "    pass\n",
    "\n",
    "def perform_clustering():\n",
    "    pass\n",
    "\n",
    "def plot_clusters():\n",
    "    pass\n",
    "\n",
    "\"\"\"\n",
    "combines a player's data from different dataframes into one dataframe\n",
    "\"\"\"\n",
    "def merge_player_data():\n",
    "    pass\n",
    "\n",
    "def PCA():\n",
    "    pass"
   ]
  },
  {
   "cell_type": "code",
   "execution_count": 22,
   "metadata": {},
   "outputs": [
    {
     "name": "stdout",
     "output_type": "stream",
     "text": [
      "--- Scraping totals data 2010-2011...\n"
     ]
    }
   ],
   "source": [
    "# for year in range(1990-2011):\n",
    "#     nba_scrapper.NBA_totals_scraper(year)"
   ]
  },
  {
   "cell_type": "code",
   "execution_count": null,
   "metadata": {},
   "outputs": [],
   "source": []
  }
 ],
 "metadata": {
  "kernelspec": {
   "display_name": "Python 3.7.3 64-bit ('anaconda3': virtualenv)",
   "language": "python",
   "name": "python37364bitanaconda3virtualenv3af063f453b044c194e0a17d2d5eba77"
  },
  "language_info": {
   "codemirror_mode": {
    "name": "ipython",
    "version": 3
   },
   "file_extension": ".py",
   "mimetype": "text/x-python",
   "name": "python",
   "nbconvert_exporter": "python",
   "pygments_lexer": "ipython3",
   "version": "3.7.3"
  }
 },
 "nbformat": 4,
 "nbformat_minor": 2
}
