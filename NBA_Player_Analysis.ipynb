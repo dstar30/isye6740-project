{
 "cells": [
  {
   "cell_type": "markdown",
   "metadata": {},
   "source": [
    "# ISYE 6740 Project - NBA Players Career Trajectory Prediction\n",
    "### Author: Daniel Jiang, Nafiz Haider\n",
    "\n",
    "The National Basketball Association (NBA) is the premier professional basketball association in the world. This sport has produced numerous stars and all time greats. There have been even more players that have excelled in their first, or rookie, NBA seasons. However, we have seen that a more accurate prediction of a player’s trajectory is from their second season."
   ]
  },
  {
   "cell_type": "code",
   "execution_count": 9,
   "metadata": {},
   "outputs": [],
   "source": [
    "# load libraries\n",
    "import numpy as np\n",
    "import pandas as pd\n",
    "import csv\n",
    "from sklearn.decomposition import PCA\n",
    "from sklearn_extra.cluster import KMedoids\n",
    "import matplotlib.pyplot as plt\n",
    "import seaborn as sns"
   ]
  },
  {
   "cell_type": "code",
   "execution_count": 3,
   "metadata": {},
   "outputs": [],
   "source": [
    "def read_data(year):\n",
    "    pass\n",
    "\n",
    "def perform_clustering():\n",
    "    pass\n",
    "\n",
    "def plot_clusters():\n",
    "    pass\n",
    "\n",
    "\"\"\"\n",
    "combines a player's data from different dataframes into one dataframe\n",
    "\"\"\"\n",
    "def merge_player_data():\n",
    "    pass\n",
    "\n",
    "def PCA():\n",
    "    pass"
   ]
  },
  {
   "cell_type": "code",
   "execution_count": 18,
   "metadata": {},
   "outputs": [
    {
     "name": "stdout",
     "output_type": "stream",
     "text": [
      "Unnamed: 0                  34\n",
      "Unnamed: 1     Britton Johnsen\n",
      "Unnamed: 2                  25\n",
      "Unnamed: 3                 IND\n",
      "Unnamed: 4                 NBA\n",
      "Unnamed: 5             2004-05\n",
      "Totals                       6\n",
      "Totals.1                     1\n",
      "Per Game                  14.5\n",
      "Per Game.1                   1\n",
      "Per Game.2                 3.7\n",
      "Per Game.3                   1\n",
      "Per Game.4                   3\n",
      "Per Game.5                   0\n",
      "Per Game.6                 0.7\n",
      "Per Game.7                   0\n",
      "Per Game.8                   0\n",
      "Per Game.9                 0.8\n",
      "Per Game.10                0.8\n",
      "Per Game.11                1.7\n",
      "Per Game.12                0.7\n",
      "Per Game.13                0.2\n",
      "Per Game.14                  0\n",
      "Per Game.15                0.5\n",
      "Per Game.16                1.7\n",
      "Per Game.17                  2\n",
      "Shooting                 0.273\n",
      "Shooting.1               0.333\n",
      "Shooting.2                   0\n",
      "Shooting.3               0.273\n",
      "Shooting.4                 NaN\n",
      "Shooting.5               0.273\n",
      "Name: 34, dtype: object\n"
     ]
    },
    {
     "data": {
      "text/plain": [
       "array([ 1.   , 14.5  ,  1.   ,  3.7  ,  1.   ,  3.   ,  0.   ,  0.7  ,\n",
       "        0.   ,  0.   ,  0.8  ,  0.8  ,  1.7  ,  0.7  ,  0.2  ,  0.   ,\n",
       "        0.5  ,  1.7  ,  2.   ,  0.273,  0.333,  0.   ,  0.273,  0.   ,\n",
       "        0.273])"
      ]
     },
     "execution_count": 18,
     "metadata": {},
     "output_type": "execute_result"
    }
   ],
   "source": [
    "# All Current second year players data\n",
    "second_years_current_pd = pd.read_csv('data/Second_Years_2019-2020.csv')\n",
    "second_years_current = second_years_current_pd.to_numpy()[1:,7:].astype(float)\n",
    "second_years_current = np.nan_to_num(second_years_current)\n",
    "\n",
    "# Dummy dataset of second year players from 2004-2005\n",
    "# This needs to be career data of all players from 1990-2011 that started their second years\n",
    "second_years_lebron_pd= pd.read_csv('data/Second_Years_2004-2005.csv')\n",
    "second_years_lebron = second_years_lebron_pd.to_numpy()[1:,7:].astype(float)\n",
    "second_years_lebron = np.nan_to_num(second_years_lebron)\n",
    "print(second_years_lebron_pd.iloc[34])\n",
    "second_years_lebron[33]"
   ]
  },
  {
   "cell_type": "code",
   "execution_count": 19,
   "metadata": {},
   "outputs": [
    {
     "name": "stdout",
     "output_type": "stream",
     "text": [
      "[70.0371436 15.1942194]\n",
      "3\n",
      "[[-12.32041421   4.61467644]\n",
      " [  1.15760571   1.15284367]\n",
      " [-14.08882239  -1.7221756 ]\n",
      " [ 61.21193554  -0.38141243]\n",
      " [-20.06190762   1.52231269]\n",
      " [-23.48531451  -3.81442727]]\n"
     ]
    }
   ],
   "source": [
    "# grab data of career and second seasons for each player from 1990 to 2010 (who is sophomore that season)\n",
    "# store in pandas: one table for career averages and one table for second season averages\n",
    "\n",
    "# All player averages in their second season 1990-2011\n",
    "#https://www.basketball-reference.com/play-index/psl_finder.cgi?request=1&match=single&type=per_game&per_minute_base=36&per_poss_base=100&season_start=2&season_end=2&lg_id=NBA&age_min=0&age_max=99&is_playoffs=N&height_min=0&height_max=99&year_min=1991&year_max=2011&birth_country_is=Y&as_comp=gt&as_val=0&pos_is_g=Y&pos_is_gf=Y&pos_is_f=Y&pos_is_fg=Y&pos_is_fc=Y&pos_is_c=Y&pos_is_cf=Y&order_by=season&order_by_asc=Y\n",
    "\n",
    "#Second season averages for 2019-2020 players\n",
    "#https://www.basketball-reference.com/play-index/psl_finder.cgi?request=1&match=single&type=per_game&per_minute_base=36&per_poss_base=100&season_start=2&season_end=2&lg_id=NBA&age_min=0&age_max=99&is_playoffs=N&height_min=0&height_max=99&year_min=2020&year_max=2020&birth_country_is=Y&as_comp=gt&as_val=0&pos_is_g=Y&pos_is_gf=Y&pos_is_f=Y&pos_is_fg=Y&pos_is_fc=Y&pos_is_c=Y&pos_is_cf=Y&order_by=season&order_by_asc=Y\n",
    "\n",
    "#https://www.basketball-reference.com/play-index/psl_finder.cgi?request=1&match=single&type=per_game&per_minute_base=36&per_poss_base=100&season_start=2&season_end=2&lg_id=NBA&age_min=0&age_max=99&is_playoffs=N&height_min=0&height_max=99&year_min=2005&year_max=2005&birth_country_is=Y&as_comp=gt&as_val=0&pos_is_g=Y&pos_is_gf=Y&pos_is_f=Y&pos_is_fg=Y&pos_is_fc=Y&pos_is_c=Y&pos_is_cf=Y&order_by=season&order_by_asc=Y\n",
    "\n",
    "\n",
    "## Missing dataset to compare career data with corresponding second year data\n",
    "\n",
    "# PCA Dimension reduction\n",
    "pca = PCA(n_components=2)\n",
    "pca.fit(second_years_lebron)\n",
    "#variance = pca.explained_variance_ratio_\n",
    "reduced_representation_career_data = pca.transform(second_years_lebron)\n",
    "print(reduced_representation_career_data[32,])\n",
    "\n",
    "# kmedoids clustering of career stats\n",
    "kmedoids = KMedoids(n_clusters=6, random_state=0).fit(reduced_representation_career_data)\n",
    "kmedoids.labels_ #cluster labels\n",
    "print(kmedoids.labels_ [32,])\n",
    "career_centers = kmedoids.cluster_centers_ #cluster centers\n",
    "print(career_centers)"
   ]
  },
  {
   "cell_type": "code",
   "execution_count": 20,
   "metadata": {},
   "outputs": [
    {
     "data": {
      "image/png": "[encoded data removed]",
      "text/plain": [
       "<Figure size 432x288 with 1 Axes>"
      ]
     },
     "metadata": {
      "needs_background": "light"
     },
     "output_type": "display_data"
    },
    {
     "data": {
      "text/plain": [
       "array([0, 5, 2, 1, 1, 0, 0, 2, 1, 1, 3, 2, 3, 1, 1, 2, 0, 3, 2, 2, 2, 5,\n",
       "       0, 1, 3, 2, 0, 5, 1, 3, 0, 3, 2, 2, 0, 1, 3, 1, 0, 3, 5, 5, 2, 0,\n",
       "       2, 5, 5, 2, 1, 2, 1, 2, 1, 2, 1, 2, 3, 2, 1, 3, 1, 0, 5, 0, 2, 1,\n",
       "       0, 5, 5, 0, 0, 2, 0, 2, 2, 1, 0, 3])"
      ]
     },
     "execution_count": 20,
     "metadata": {},
     "output_type": "execute_result"
    }
   ],
   "source": [
    "# Graph clusters\n",
    "y_kmedoids = kmedoids.predict(reduced_representation_career_data)\n",
    "fig, ax = plt.subplots()\n",
    "scatter = ax.scatter(reduced_representation_career_data[:, 0], reduced_representation_career_data[:, 1], c=y_kmedoids, s=50, cmap='viridis')\n",
    "# produce a legend with the unique colors from the scatter\n",
    "legend1 = ax.legend(*scatter.legend_elements(),\n",
    "                    loc=\"best\", title=\"Clusters\")\n",
    "ax.add_artist(legend1)\n",
    "plt.scatter(career_centers[:, 0], career_centers[:, 1], c='black', s=200, alpha=0.5)\n",
    "plt.show()\n",
    "\n",
    "# Assign \"true\" cluster assignment after based on things we can look up.\n",
    "# i.e. % of games started, all star appearances, all nba appearances, etc.\n",
    "# Find accuracy of results\n",
    "#actual_labels = \n",
    "#false_classification_rate = np.count_nonzero(kmedoids.labels_==actual_labels)/len(kmedoids.labels_)\n",
    "\n",
    "# Map career data to second year data by row number\n",
    "# Find second year \"averages\" for each stat of each cluster\n",
    "\n",
    "# Fit current crop of second year players to clusters... \n",
    "# this will need to change once we implement finding second year averages per cluster\n",
    "# probably euclidean distance measurements with the averages from above\n",
    "pca.fit(second_years_current)\n",
    "#variance = pca.explained_variance_ratio_\n",
    "reduced_representation_second_years_current = pca.transform(second_years_current)\n",
    "kmedoids.predict(reduced_representation_second_years_current)\n"
   ]
  },
  {
   "cell_type": "code",
   "execution_count": null,
   "metadata": {},
   "outputs": [],
   "source": []
  }
 ],
 "metadata": {
  "kernelspec": {
   "display_name": "Python 3.7.3 64-bit ('anaconda3': virtualenv)",
   "language": "python",
   "name": "python37364bitanaconda3virtualenv3af063f453b044c194e0a17d2d5eba77"
  },
  "language_info": {
   "codemirror_mode": {
    "name": "ipython",
    "version": 3
   },
   "file_extension": ".py",
   "mimetype": "text/x-python",
   "name": "python",
   "nbconvert_exporter": "python",
   "pygments_lexer": "ipython3",
   "version": "3.7.3"
  }
 },
 "nbformat": 4,
 "nbformat_minor": 2
}
