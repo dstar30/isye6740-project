{
 "cells": [
  {
   "cell_type": "markdown",
   "metadata": {},
   "source": [
    "# ISYE 6740 Project - NBA Players Career Trajectory Prediction\n",
    "### Author: Daniel Jiang, Nafiz Haider\n",
    "\n",
    "The National Basketball Association (NBA) is the premier professional basketball association in the world. This sport has produced numerous stars and all time greats. There have been even more players that have excelled in their first, or rookie, NBA seasons. However, we have seen that a more accurate prediction of a player’s trajectory is from their second season."
   ]
  },
  {
   "cell_type": "code",
   "execution_count": 1,
   "metadata": {},
   "outputs": [],
   "source": [
    "# load libraries\n",
    "import pandas as pd\n",
    "import numpy as np\n",
    "from sklearn.decomposition import PCA\n",
    "import nba_scrapper"
   ]
  },
  {
   "cell_type": "code",
   "execution_count": 9,
   "metadata": {},
   "outputs": [],
   "source": [
    "def read_data(year):\n",
    "    pass\n",
    "\n",
    "def perform_clustering():\n",
    "    pass\n",
    "\n",
    "def plot_clusters():\n",
    "    pass\n",
    "\n",
    "\"\"\"\n",
    "combines a player's data from different dataframes into one dataframe\n",
    "\"\"\"\n",
    "def merge_player_data():\n",
    "    pass\n",
    "\n",
    "def PCA():\n",
    "    pass"
   ]
  },
  {
   "cell_type": "code",
   "execution_count": 2,
   "metadata": {
    "scrolled": true
   },
   "outputs": [
    {
     "name": "stdout",
     "output_type": "stream",
     "text": [
      "--- Scraping totals data 1989-1990...\n",
      "--- Scraping advanced data 1989-1990...\n",
      "--- Scraping totals data 1990-1991...\n",
      "--- Scraping advanced data 1990-1991...\n",
      "--- Scraping totals data 1991-1992...\n",
      "--- Scraping advanced data 1991-1992...\n",
      "--- Scraping totals data 1992-1993...\n",
      "--- Scraping advanced data 1992-1993...\n",
      "--- Scraping totals data 1993-1994...\n",
      "--- Scraping advanced data 1993-1994...\n",
      "--- Scraping totals data 1994-1995...\n",
      "--- Scraping advanced data 1994-1995...\n",
      "--- Scraping totals data 1995-1996...\n",
      "--- Scraping advanced data 1995-1996...\n",
      "--- Scraping totals data 1996-1997...\n",
      "--- Scraping advanced data 1996-1997...\n",
      "--- Scraping totals data 1997-1998...\n",
      "--- Scraping advanced data 1997-1998...\n",
      "--- Scraping totals data 1998-1999...\n",
      "--- Scraping advanced data 1998-1999...\n",
      "--- Scraping totals data 1999-2000...\n",
      "--- Scraping advanced data 1999-2000...\n",
      "--- Scraping totals data 2000-2001...\n",
      "--- Scraping advanced data 2000-2001...\n",
      "--- Scraping totals data 2001-2002...\n",
      "--- Scraping advanced data 2001-2002...\n",
      "--- Scraping totals data 2002-2003...\n",
      "--- Scraping advanced data 2002-2003...\n",
      "--- Scraping totals data 2003-2004...\n",
      "--- Scraping advanced data 2003-2004...\n",
      "--- Scraping totals data 2004-2005...\n",
      "--- Scraping advanced data 2004-2005...\n",
      "--- Scraping totals data 2005-2006...\n",
      "--- Scraping advanced data 2005-2006...\n",
      "--- Scraping totals data 2006-2007...\n",
      "--- Scraping advanced data 2006-2007...\n",
      "--- Scraping totals data 2007-2008...\n",
      "--- Scraping advanced data 2007-2008...\n",
      "--- Scraping totals data 2008-2009...\n",
      "--- Scraping advanced data 2008-2009...\n",
      "--- Scraping totals data 2009-2010...\n",
      "--- Scraping advanced data 2009-2010...\n"
     ]
    }
   ],
   "source": [
    "# scrape data from basketball-reference.com\n",
    "for year in range(1990, 2011):\n",
    "    nba_scrapper.scrape_totals(year)\n",
    "    nba_scrapper.scrape_advanced(year)"
   ]
  },
  {
   "cell_type": "code",
   "execution_count": null,
   "metadata": {},
   "outputs": [],
   "source": []
  }
 ],
 "metadata": {
  "kernelspec": {
   "display_name": "Python 3.7.3 64-bit ('anaconda3': virtualenv)",
   "language": "python",
   "name": "python37364bitanaconda3virtualenv3af063f453b044c194e0a17d2d5eba77"
  },
  "language_info": {
   "codemirror_mode": {
    "name": "ipython",
    "version": 3
   },
   "file_extension": ".py",
   "mimetype": "text/x-python",
   "name": "python",
   "nbconvert_exporter": "python",
   "pygments_lexer": "ipython3",
   "version": "3.7.3"
  }
 },
 "nbformat": 4,
 "nbformat_minor": 2
}
